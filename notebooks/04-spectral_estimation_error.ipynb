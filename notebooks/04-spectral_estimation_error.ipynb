{
 "cells": [
  {
   "cell_type": "code",
   "execution_count": 1,
   "metadata": {},
   "outputs": [],
   "source": [
    "# Set up sys.path and import needed packages.\n",
    "import _preamble\n",
    "\n",
    "import numpy as np\n",
    "from scipy.integrate import fixed_quad\n",
    "from scipy.special import jv\n",
    "import matplotlib.pyplot as plt\n",
    "\n",
    "from pmte import estimation, tapers, util\n",
    "import helpers"
   ]
  },
  {
   "cell_type": "code",
   "execution_count": 2,
   "metadata": {},
   "outputs": [],
   "source": [
    "# Set basic parameters.\n",
    "N = 128  # Size of images\n",
    "M = 200  # Number of images\n",
    "\n",
    "# Initialize PRNG.\n",
    "rng = np.random.default_rng(0)"
   ]
  },
  {
   "cell_type": "code",
   "execution_count": 3,
   "metadata": {},
   "outputs": [],
   "source": [
    "# Define the power spectral density (PSD) that will be used to generate the\n",
    "# noisy images. This corresponds to S(ξ) in eq. (6.1) of the paper, but with a\n",
    "# normalizing factor to ensure that S(0) = 1.\n",
    "\n",
    "def psd_fun(xi1, xi2):\n",
    "    # The integral in eq. (6.1) is approximated with a Gauss–Legendre\n",
    "    # quadrature rule over the interval [0, 100] with 200 nodes.\n",
    "    quadrature = lambda func: fixed_quad(func, 0, 100, n=200)[0]\n",
    "\n",
    "    integrand = lambda u, xi: (\n",
    "        jv(0, 8 * np.expand_dims(xi, -1) * u) * (jv(1, u) / u) ** 3 * u\n",
    "    )\n",
    "\n",
    "    xi = np.hypot(xi1, xi2)\n",
    "\n",
    "    # Calculate normalizing constant.\n",
    "    C = quadrature(lambda u: integrand(u, 0))\n",
    "\n",
    "    density = 1 / C * quadrature(lambda u: integrand(u, xi))\n",
    "\n",
    "    return density"
   ]
  },
  {
   "cell_type": "code",
   "execution_count": 4,
   "metadata": {},
   "outputs": [],
   "source": [
    "# Generate a n random images of size N×N with the desired PSD.\n",
    "X = helpers.generate_field((N, N), M, psd_fun=psd_fun, rng=rng)\n",
    "\n",
    "# Calculate the true PSD on a frequency grid of size N×N.\n",
    "psd_true = psd_fun(*util.grid((N, N)))"
   ]
  },
  {
   "cell_type": "code",
   "execution_count": 5,
   "metadata": {},
   "outputs": [],
   "source": [
    "# Define grid of radii for the disk masks.\n",
    "radii = np.geomspace(2 ** -4 * N, 2 ** -1 * N, 3 * 4 + 1)"
   ]
  },
  {
   "cell_type": "code",
   "execution_count": 6,
   "metadata": {},
   "outputs": [],
   "source": [
    "# Estimate the spectral estimation error for masks of various radii with a\n",
    "# bandwidth that is asymptotically optimal for that mask.\n",
    "errors = []\n",
    "n_masks = []\n",
    "\n",
    "for radius in radii:\n",
    "    # Generate a mask of radius r.\n",
    "    mask = helpers.disk_mask(N, radius)\n",
    "\n",
    "    # Compute the asymptotically optimal bandwidth for this mask (see comment\n",
    "    # after eq. (4.4) in the paper).\n",
    "    n_mask = np.count_nonzero(mask)\n",
    "    W = n_mask ** (-1 / 6)\n",
    "\n",
    "    # Generate proxy tapers for the desired mask and bandwidths.\n",
    "    h = tapers.proxy_tapers(mask, W, rng=rng)\n",
    "\n",
    "    # Computer the multitaper estimator for the proxy tapers.\n",
    "    psd_est = estimation.multitaper(X, h)\n",
    "\n",
    "    # Approximate the maximum mean squared error using an empirical average as\n",
    "    # in eq. (6.2) of the paper.\n",
    "    error = np.max(np.mean(np.abs(psd_true - psd_est) ** 2, axis=0))\n",
    "\n",
    "    errors.append(error)\n",
    "    n_masks.append(n_mask)\n",
    "\n",
    "# Convert to ndarrays for processing.\n",
    "errors = np.array(errors)\n",
    "n_masks = np.array(n_masks)"
   ]
  },
  {
   "cell_type": "code",
   "execution_count": 7,
   "metadata": {},
   "outputs": [
    {
     "data": {
      "image/png": "[encoded data removed]",
      "text/plain": [
       "<Figure size 640x480 with 1 Axes>"
      ]
     },
     "metadata": {},
     "output_type": "display_data"
    }
   ],
   "source": [
    "# Plot Figure 4(b) in paper.\n",
    "plt.loglog(radii, errors, \".-\")\n",
    "plt.xlabel(\"$R$\")\n",
    "plt.ylabel(r\"$\\max_\\xi \\widehat{\\mathrm{MSE}}\\{\\hat{S}^{\\mathrm{mt}}(\\xi)\\}$\")\n",
    "plt.yticks([1e-2, 1e-1, 1e0])\n",
    "plt.show(block=False)"
   ]
  },
  {
   "cell_type": "code",
   "execution_count": 8,
   "metadata": {},
   "outputs": [
    {
     "name": "stdout",
     "output_type": "stream",
     "text": [
      "Estimated exponent: -1.526300\n"
     ]
    }
   ],
   "source": [
    "# Estimate the slope in the log–log plot after normalizing by log^2(n_mask).\n",
    "# According to the theorem, the error should decay as R^{–4/3}.\n",
    "beta = helpers.log_slope(radii, errors / np.log(n_masks) ** 2)\n",
    "\n",
    "print(\"Estimated exponent: %f\" % (beta,))"
   ]
  },
  {
   "cell_type": "markdown",
   "metadata": {},
   "source": [
    "---"
   ]
  },
  {
   "cell_type": "code",
   "execution_count": 9,
   "metadata": {},
   "outputs": [],
   "source": [
    "# Save data for figure generation.\n",
    "helpers.save_table(\"mse2_single\", radii, errors)\n",
    "\n",
    "results = {\"beta\": float(beta)}\n",
    "\n",
    "helpers.save_dictionary(\"mse2_single\", results)"
   ]
  }
 ],
 "metadata": {
  "kernelspec": {
   "display_name": "Python 3 (ipykernel)",
   "language": "python",
   "name": "python3"
  },
  "language_info": {
   "codemirror_mode": {
    "name": "ipython",
    "version": 3
   },
   "file_extension": ".py",
   "mimetype": "text/x-python",
   "name": "python",
   "nbconvert_exporter": "python",
   "pygments_lexer": "ipython3",
   "version": "3.10.12"
  }
 },
 "nbformat": 4,
 "nbformat_minor": 4
}
