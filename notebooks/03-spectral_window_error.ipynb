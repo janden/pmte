{
 "cells": [
  {
   "cell_type": "code",
   "execution_count": 1,
   "metadata": {},
   "outputs": [],
   "source": [
    "# Set up sys.path and import needed packages.\n",
    "import _preamble\n",
    "\n",
    "import numpy as np\n",
    "import matplotlib.pyplot as plt\n",
    "\n",
    "from pmte import tapers, util\n",
    "import helpers"
   ]
  },
  {
   "cell_type": "code",
   "execution_count": 2,
   "metadata": {},
   "outputs": [],
   "source": [
    "# Set basic parameters.\n",
    "N = 128  # Size of images\n",
    "Nf = 2 * N  # Size of frequency grid\n",
    "W = 1 / 4  # Bandwidth\n",
    "\n",
    "# Initialize PRNG.\n",
    "rng = np.random.default_rng(0)"
   ]
  },
  {
   "cell_type": "code",
   "execution_count": 3,
   "metadata": {},
   "outputs": [],
   "source": [
    "# Define grid of radii for the disk masks.\n",
    "radii = np.geomspace(2 ** -4 * N, 2 ** -1 * N, 3 * 4 + 1)"
   ]
  },
  {
   "cell_type": "code",
   "execution_count": 4,
   "metadata": {},
   "outputs": [],
   "source": [
    "# Calculate error in the accumulated spectral window for different masks.\n",
    "rho_errors = []\n",
    "\n",
    "for radius in radii:\n",
    "    # Generate set of proxy tapers for a disk of radius r with bandwidth W.\n",
    "    mask = helpers.disk_mask(N, radius)\n",
    "    h = tapers.proxy_tapers(mask, W, rng=rng)\n",
    "\n",
    "    # Calculate accumulated spectral window. This corresponds to eq. (4.1) in\n",
    "    # the paper.\n",
    "    rho = tapers.spectral_window(h, grid_sz=(Nf, Nf))\n",
    "\n",
    "    # Get the target window 1_[–W/2,W/2] for the given bandwidth.\n",
    "    rho_target = helpers.target_spectral_window(Nf, W)\n",
    "\n",
    "    # Calculate spectral window error. This approximates the LHS of eq. (4.2)\n",
    "    # in the paper.\n",
    "    rho_error = np.mean(np.abs(rho - rho_target))\n",
    "\n",
    "    rho_errors.append(rho_error)\n",
    "\n",
    "# Convert to ndarray for processing.\n",
    "rho_errors = np.array(rho_errors)"
   ]
  },
  {
   "cell_type": "code",
   "execution_count": 5,
   "metadata": {},
   "outputs": [
    {
     "data": {
      "image/png": "[encoded data removed]",
      "text/plain": [
       "<Figure size 640x480 with 1 Axes>"
      ]
     },
     "metadata": {},
     "output_type": "display_data"
    }
   ],
   "source": [
    "# Plot Figure 4(a) in paper.\n",
    "plt.loglog(radii, rho_errors, \".-\")\n",
    "plt.yticks([1e-2, 1e-1, 1e0])\n",
    "plt.xlabel(\"$R$\")\n",
    "plt.ylabel(\"$L^1$ error on $\\\\rho$\")\n",
    "plt.show(block=False)"
   ]
  },
  {
   "cell_type": "code",
   "execution_count": 6,
   "metadata": {},
   "outputs": [
    {
     "name": "stdout",
     "output_type": "stream",
     "text": [
      "Estimated exponent: -1.014586\n"
     ]
    }
   ],
   "source": [
    "# Calculate the slope of the log–log plot to see how well it corresponds with\n",
    "# the bound, which specifies that the error should vary as R^{–1}.\n",
    "beta = helpers.log_slope(radii, rho_errors)\n",
    "\n",
    "print(\"Estimated exponent: %f\" % (beta,))"
   ]
  },
  {
   "cell_type": "markdown",
   "metadata": {},
   "source": [
    "---"
   ]
  },
  {
   "cell_type": "code",
   "execution_count": 7,
   "metadata": {},
   "outputs": [],
   "source": [
    "# Save data for figure generation.\n",
    "helpers.save_table(\"rho1_single\", radii, rho_errors)\n",
    "\n",
    "results = {\"beta\": float(beta)}\n",
    "helpers.save_dictionary(\"rho1_single\", results)"
   ]
  }
 ],
 "metadata": {
  "kernelspec": {
   "display_name": "Python 3 (ipykernel)",
   "language": "python",
   "name": "python3"
  },
  "language_info": {
   "codemirror_mode": {
    "name": "ipython",
    "version": 3
   },
   "file_extension": ".py",
   "mimetype": "text/x-python",
   "name": "python",
   "nbconvert_exporter": "python",
   "pygments_lexer": "ipython3",
   "version": "3.10.12"
  }
 },
 "nbformat": 4,
 "nbformat_minor": 4
}
