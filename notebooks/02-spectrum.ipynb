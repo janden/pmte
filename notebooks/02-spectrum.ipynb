{
 "cells": [
  {
   "cell_type": "code",
   "execution_count": 1,
   "metadata": {},
   "outputs": [],
   "source": [
    "# Set up sys.path and import needed packages.\n",
    "import _preamble\n",
    "\n",
    "import numpy as np\n",
    "import matplotlib.pyplot as plt\n",
    "\n",
    "from pmte import tapers\n",
    "import helpers"
   ]
  },
  {
   "cell_type": "code",
   "execution_count": 2,
   "metadata": {},
   "outputs": [],
   "source": [
    "# Set basic parameters.\n",
    "N = 32  # Length of signal\n",
    "W = 7 / 32  # Bandwidth"
   ]
  },
  {
   "cell_type": "code",
   "execution_count": 3,
   "metadata": {},
   "outputs": [],
   "source": [
    "# Define a mask of length N that includes all the point in the signal.\n",
    "mask = np.full((N,), True)\n",
    "\n",
    "# Get a function handle for the linear operator that performs the concentration\n",
    "# operation. This is the operator T^{Ω,W} defined in eq. (3.8) of the paper.\n",
    "op = tapers.concentration_op(mask, W)"
   ]
  },
  {
   "cell_type": "code",
   "execution_count": 4,
   "metadata": {},
   "outputs": [],
   "source": [
    "# Convert the linear operator to an N×N matrix by applying it to the identity\n",
    "# matrix.\n",
    "A = op(np.eye(N))\n",
    "\n",
    "# Get the eigenvalues and sort them in descending order.\n",
    "D = np.linalg.eigvalsh(A)\n",
    "D = np.sort(D)[::-1]"
   ]
  },
  {
   "cell_type": "code",
   "execution_count": 5,
   "metadata": {},
   "outputs": [
    {
     "data": {
      "image/png": "[encoded data removed]",
      "text/plain": [
       "<Figure size 640x480 with 1 Axes>"
      ]
     },
     "metadata": {},
     "output_type": "display_data"
    }
   ],
   "source": [
    "# Plot Figure 3 in the paper.\n",
    "ks = np.arange(1, len(D) + 1)\n",
    "\n",
    "plt.bar(ks, D)\n",
    "plt.xticks([1, 8, 16, 24, 32])\n",
    "plt.yticks([0, 0.5, 1])\n",
    "plt.xlabel(\"$k$\")\n",
    "plt.ylabel(\"$\\lambda_k$\")\n",
    "plt.show(block=False)"
   ]
  },
  {
   "cell_type": "markdown",
   "metadata": {},
   "source": [
    "---"
   ]
  },
  {
   "cell_type": "code",
   "execution_count": 6,
   "metadata": {},
   "outputs": [],
   "source": [
    "# Save data for figure generation.\n",
    "helpers.save_table(\"spectrum\", ks, D)"
   ]
  }
 ],
 "metadata": {
  "kernelspec": {
   "display_name": "Python 3 (ipykernel)",
   "language": "python",
   "name": "python3"
  },
  "language_info": {
   "codemirror_mode": {
    "name": "ipython",
    "version": 3
   },
   "file_extension": ".py",
   "mimetype": "text/x-python",
   "name": "python",
   "nbconvert_exporter": "python",
   "pygments_lexer": "ipython3",
   "version": "3.10.12"
  }
 },
 "nbformat": 4,
 "nbformat_minor": 4
}
