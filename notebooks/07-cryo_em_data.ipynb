{
 "cells": [
  {
   "cell_type": "code",
   "execution_count": 1,
   "metadata": {},
   "outputs": [],
   "source": [
    "# Set up sys.path and import needed packages.\n",
    "import _preamble\n",
    "\n",
    "import numpy as np\n",
    "import matplotlib.pyplot as plt\n",
    "\n",
    "from pmte import estimation, tapers\n",
    "import helpers"
   ]
  },
  {
   "cell_type": "code",
   "execution_count": 2,
   "metadata": {},
   "outputs": [],
   "source": [
    "# Set basic parameters.\n",
    "M = 120  # Number of images\n",
    "W = 1 / 16  # Bandwidth\n",
    "\n",
    "# Initialize PRNG.\n",
    "rng = np.random.default_rng(0)"
   ]
  },
  {
   "cell_type": "code",
   "execution_count": 3,
   "metadata": {},
   "outputs": [],
   "source": [
    "# Load M sample images from the EMPIAR-100028 dataset.\n",
    "signal, projection = helpers.load_exp_images(M)\n",
    "\n",
    "# Extract size of the experimental images.\n",
    "N = signal.shape[-1]"
   ]
  },
  {
   "cell_type": "code",
   "execution_count": 4,
   "metadata": {},
   "outputs": [],
   "source": [
    "# Since we don't have access to the true power spectral densities (PSDs) of the\n",
    "# experimental images, we subtract the estimated projection image and estimate\n",
    "# the power spectrum of the difference. If the projection estimate is reasonably\n",
    "# accurate, the residual should consist only of noise. Of course, this is only\n",
    "# possible if we already have estimated projections, which is not the case for\n",
    "# unprocessed experimental data.\n",
    "\n",
    "h = tapers.tensor_tapers((N, N), W)\n",
    "psd_true = estimation.multitaper(signal - projection, h)"
   ]
  },
  {
   "cell_type": "code",
   "execution_count": 5,
   "metadata": {},
   "outputs": [],
   "source": [
    "# Define functions for estimating the density using the three methods for a\n",
    "# given mask.\n",
    "\n",
    "\n",
    "def est_mper(x, mask):\n",
    "    x_mper = estimation.periodogram(x * mask, 2)\n",
    "    x_mper *= N ** 2 / np.sum(mask)\n",
    "\n",
    "    return x_mper\n",
    "\n",
    "\n",
    "def est_pmt(x, mask):\n",
    "    h_pmt = tapers.proxy_tapers(mask, W, rng=rng)\n",
    "    x_pmt = estimation.multitaper(x, h_pmt)\n",
    "\n",
    "    return x_pmt\n",
    "\n",
    "\n",
    "def est_cmt(x, mask):\n",
    "    h_cmt = tapers.corner_tapers(mask, W)\n",
    "    x_cmt = estimation.multitaper(x, h_cmt)\n",
    "\n",
    "    return x_cmt"
   ]
  },
  {
   "cell_type": "code",
   "execution_count": 6,
   "metadata": {},
   "outputs": [
    {
     "name": "stdout",
     "output_type": "stream",
     "text": [
      "Estimator             Radius            MSE\n",
      "mper                      36   1.549290e+01\n",
      "cmt                       36   9.198795e-02\n",
      "pmt                       36   2.881294e-01\n",
      "mper                      48   1.460459e+01\n",
      "cmt                       48   3.833710e-02\n",
      "pmt                       48   2.130741e-01\n",
      "mper                      60   1.365876e+01\n",
      "cmt                       60   3.929345e-02\n",
      "pmt                       60   1.395594e-01\n",
      "mper                      72   1.276413e+01\n",
      "cmt                       72   4.099471e-02\n",
      "pmt                       72   7.625897e-02\n",
      "mper                      84   1.185682e+01\n",
      "cmt                       84   5.294156e-02\n",
      "pmt                       84   3.652345e-02\n",
      "mper                      96   1.095814e+01\n",
      "cmt                       96   7.561178e-02\n",
      "pmt                       96   2.233870e-02\n",
      "mper                     108   1.040558e+01\n",
      "cmt                      108   9.409651e-02\n",
      "pmt                      108   2.524154e-02\n",
      "mper                     120   1.012836e+01\n",
      "cmt                      120   1.176456e-01\n",
      "pmt                      120   3.236182e-02\n",
      "mper                     132   9.918031e+00\n",
      "cmt                      132   1.364509e-01\n",
      "pmt                      132   4.102409e-02\n",
      "mper                     144   9.731274e+00\n",
      "cmt                      144   1.705862e-01\n",
      "pmt                      144   5.363268e-02\n"
     ]
    }
   ],
   "source": [
    "# Estimate the density for masks corresponding to various radii. From these, we\n",
    "# compute the mean squared error (MSE) compared to the density estimated\n",
    "# obtained from the residual images after subtracting the estimated projections\n",
    "# (see above).\n",
    "\n",
    "radii = np.arange(36, 144 + 1, 12)\n",
    "\n",
    "methods = {\"mper\": est_mper, \"cmt\": est_cmt, \"pmt\": est_pmt}\n",
    "\n",
    "mses = {name: [] for name in methods}\n",
    "\n",
    "print(\"%-20s%8s%15s\" % (\"Estimator\", \"Radius\", \"MSE\"))\n",
    "\n",
    "for radius in radii:\n",
    "    mask = ~helpers.disk_mask(N, radius)\n",
    "\n",
    "    for name, method in methods.items():\n",
    "        psd_est = method(signal, mask)\n",
    "\n",
    "        mse = np.mean(np.abs(psd_est - psd_true) ** 2)\n",
    "\n",
    "        print(\"%-20s%8d%15e\" % (name, radius, mse))\n",
    "\n",
    "        mses[name].append(mse)"
   ]
  },
  {
   "cell_type": "code",
   "execution_count": 7,
   "metadata": {},
   "outputs": [
    {
     "data": {
      "image/png": "[encoded data removed]",
      "text/plain": [
       "<Figure size 600x400 with 1 Axes>"
      ]
     },
     "metadata": {},
     "output_type": "display_data"
    }
   ],
   "source": [
    "# Plot Figure 11 in the paper.\n",
    "plt.figure(figsize=(6, 4))\n",
    "plt.semilogy(radii, mses[\"cmt\"], \"s--g\", radii, mses[\"pmt\"], \"^-r\")\n",
    "plt.ylim((1e-2, 1e0))\n",
    "plt.xticks([36, 72, 108, 144])\n",
    "plt.xlabel(\"$R$\")\n",
    "plt.ylabel(\"Mean squared error\")\n",
    "plt.show(block=False)"
   ]
  },
  {
   "cell_type": "code",
   "execution_count": 8,
   "metadata": {},
   "outputs": [
    {
     "name": "stdout",
     "output_type": "stream",
     "text": [
      "Radius for lowest MSE with proxy tapers: 96\n",
      "MSE reduction vs. masked periodogram: 435.623936\n",
      "MSE reduction vs. corner multitaper: 1.716174\n"
     ]
    }
   ],
   "source": [
    "# Extract some useful metrics from the data and print them.\n",
    "min_mse_mper = np.min(mses[\"mper\"])\n",
    "min_mse_cmt = np.min(mses[\"cmt\"])\n",
    "min_mse_pmt = np.min(mses[\"pmt\"])\n",
    "\n",
    "argmin_mse_pmt = radii[np.argmin(mses[\"pmt\"])]\n",
    "\n",
    "print(\"Radius for lowest MSE with proxy tapers: %d\" % (argmin_mse_pmt,))\n",
    "\n",
    "mse_factor_mper = min_mse_mper / min_mse_pmt\n",
    "mse_factor_cmt = min_mse_cmt / min_mse_pmt\n",
    "\n",
    "print(\"MSE reduction vs. masked periodogram: %f\" % (mse_factor_mper,))\n",
    "print(\"MSE reduction vs. corner multitaper: %f\" % (mse_factor_cmt,))"
   ]
  },
  {
   "cell_type": "markdown",
   "metadata": {},
   "source": [
    "---"
   ]
  },
  {
   "cell_type": "code",
   "execution_count": 9,
   "metadata": {},
   "outputs": [],
   "source": [
    "# Save data for figure generation.\n",
    "helpers.save_table(\"cryo_exp\", np.round(radii), mses[\"mper\"], mses[\"cmt\"], mses[\"pmt\"])\n",
    "\n",
    "results = {\n",
    "    \"min_mse_mper\": float(min_mse_mper),\n",
    "    \"min_mse_cmt\": float(min_mse_cmt),\n",
    "    \"min_mse_rt\": float(min_mse_pmt),\n",
    "    \"argmin_mse_rt\": float(argmin_mse_pmt),\n",
    "    \"mse_factor_mper\": float(mse_factor_mper),\n",
    "    \"mse_factor_cmt\": float(mse_factor_cmt),\n",
    "}\n",
    "\n",
    "helpers.save_dictionary(\"cryo_exp\", results)"
   ]
  }
 ],
 "metadata": {
  "kernelspec": {
   "display_name": "Python 3 (ipykernel)",
   "language": "python",
   "name": "python3"
  },
  "language_info": {
   "codemirror_mode": {
    "name": "ipython",
    "version": 3
   },
   "file_extension": ".py",
   "mimetype": "text/x-python",
   "name": "python",
   "nbconvert_exporter": "python",
   "pygments_lexer": "ipython3",
   "version": "3.10.12"
  }
 },
 "nbformat": 4,
 "nbformat_minor": 4
}
